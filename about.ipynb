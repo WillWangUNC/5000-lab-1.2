{
  "cells": [
    {
      "cell_type": "raw",
      "metadata": {},
      "source": [
        "---\n",
        "title: \"About\"\n",
        "format: html\n",
        "---\n"
      ]
    },
    {
      "cell_type": "markdown",
      "metadata": {},
      "source": [
        "About this site\n",
        "\n",
        " # First Paragraph\n",
        "Lorem ipsum dolor sit amet, consectetur adipiscing elit, sed do eiusmod tempor incididunt ut labore et dolore magna aliqua. Ut enim ad minim veniam, quis nostrud exercitation ullamco laboris nisi ut aliquip ex ea commodo consequat. \n",
        "\n",
        "## Second paragraph\n",
        "Lorem ipsum dolor sit amet, consectetur adipiscing elit, sed do eiusmod tempor incididunt ut labore et dolore magna aliqua. Morbi tincidunt ornare massa eget egestas. Blandit aliquam etiam erat velit scelerisque in. Tristique risus nec feugiat in fermentum posuere. \n",
        "\n",
        "### Third Paragraph\n",
        "Lorem ipsum dolor sit amet, consectetur adipiscing elit, sed do eiusmod tempor incididunt ut labore et dolore magna aliqua. Mauris a diam maecenas sed enim ut sem. Amet facilisis magna etiam tempor orci. A scelerisque purus semper eget duis at. "
      ]
    },
    {
      "cell_type": "raw",
      "metadata": {},
      "source": [
        ":::{.callout-note}\n",
        "Note that there are five types of callouts, including: \n",
        "`note`, `tip`, `warning`, `caution`, and `important`.\n",
        ":::"
      ]
    }
  ],
  "metadata": {
    "kernelspec": {
      "display_name": "Python 3 (ipykernel)",
      "language": "python",
      "name": "python3"
    }
  },
  "nbformat": 4,
  "nbformat_minor": 4
}
